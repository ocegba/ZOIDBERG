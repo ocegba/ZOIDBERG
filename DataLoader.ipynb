{
 "cells": [
  {
   "cell_type": "code",
   "execution_count": 1,
   "id": "2da4c3bd",
   "metadata": {
    "scrolled": true
   },
   "outputs": [],
   "source": [
    "from keras.models import Sequential\n",
    "from ipynb.fs.full.DataGenerator import DataGenerator\n",
    "from ipynb.fs.full.PreprocessData import Preprocessing\n",
    "\n",
    "import os\n",
    "import numpy as np\n",
    "import matplotlib.pyplot as plt\n",
    "\n",
    "import imgaug as ia\n",
    "import imgaug.augmenters as iaa"
   ]
  },
  {
   "cell_type": "code",
   "execution_count": 2,
   "id": "294795d0",
   "metadata": {},
   "outputs": [],
   "source": [
    "class DataLoader:\n",
    "    def __init__(self, ntrain, batch_size=64, augment_data=True, shuffle=True, plot_distribuition=True):\n",
    "        self.ntrain = ntrain\n",
    "        self.batch_size = batch_size\n",
    "        self.augment_data = augment_data\n",
    "        self.shuffle = shuffle\n",
    "        \n",
    "#        tuples of (images, labels):\n",
    "        preprocess_files = Preprocessing(\"input\", ntrain)\n",
    "        train_normal, train_pneumonia,  test_normal, test_pneumonia, val_normal, val_pneumonia = preprocess_files.preprocess()\n",
    "        \n",
    "        self.train_data = self.load_train_data(train_normal, train_pneumonia)\n",
    "        self.val_data = self.load_val_data(test_normal, test_pneumonia)\n",
    "        self.test_data = self.load_test_data(val_normal, val_pneumonia)\n",
    "        \n",
    "        if plot_distribuition: \n",
    "            self.plot_data_distribuition()\n",
    "\n",
    "    def load_train_data(self, train_normal, train_pneumonia):\n",
    "        \"\"\"\n",
    "        retourne un tableau d'images train_normal et train_pneumonia dont les étiquettes sont NORMAL et PNEUMONIA concaténées\n",
    "        \"\"\"\n",
    "        normal_labels = np.zeros(len(train_normal))\n",
    "        print(\"train_normal : \", np.shape(train_normal))\n",
    "        print(\"train_pneumonia : \", np.shape(train_pneumonia))\n",
    "\n",
    "        pneumonia_labels = np.ones(len(train_pneumonia))\n",
    "        images = np.concatenate((train_normal, train_pneumonia))\n",
    "        labels = np.concatenate((normal_labels, pneumonia_labels))\n",
    "        \n",
    "        print(\"images : \", np.shape(images), \"labels : \", np.shape(labels))\n",
    "        \n",
    "        return (images, labels)\n",
    "\n",
    "    def load_val_data(self, val_normal, val_pneumonia):\n",
    "        \"\"\"\n",
    "        retourne un tableau d'images val_normal et val_pneumonia dont les étiquettes sont NORMAL et PNEUMONIA concaténées\n",
    "        \"\"\"\n",
    "        normal_val_labels = np.zeros(len(val_normal))\n",
    "        pneumonia_val_labels = np.ones(len(val_pneumonia))\n",
    "        images = np.concatenate((val_normal, val_pneumonia))\n",
    "        labels = np.concatenate((normal_val_labels, pneumonia_val_labels))\n",
    "        \n",
    "        print(\"images : \", np.shape(images), \"labels : \", np.shape(labels))\n",
    "        \n",
    "        return (images, labels)\n",
    "    \n",
    "    def load_test_data(self, test_normal, test_pneumonia):\n",
    "        \"\"\"\n",
    "        retourne un tableau d'images val_normal et val_pneumonia dont les étiquettes sont NORMAL et PNEUMONIA concaténées\n",
    "        \"\"\"\n",
    "        normal_test_labels = np.zeros(len(test_normal))\n",
    "        pneumonia_test_labels = np.ones(len(test_pneumonia))\n",
    "        images = np.concatenate((test_normal, test_pneumonia))\n",
    "        labels = np.concatenate((normal_test_labels, pneumonia_test_labels))\n",
    "        \n",
    "        print(\"images : \", np.shape(images), \"labels : \", np.shape(labels))\n",
    "\n",
    "        return (images, labels)\n",
    "\n",
    "    \n",
    "    def load_train_generator(self):\n",
    "        return DataGenerator(*self.train_data,\n",
    "                             batch_size=max(self.batch_size, self.ntrain),\n",
    "                             shuffle=self.shuffle,\n",
    "                             augment_data=self.augment_data\n",
    "                            )\n",
    "\n",
    "    def load_validation_generator(self):\n",
    "        return DataGenerator(*self.val_data,\n",
    "                             batch_size=max(self.batch_size, self.ntrain),\n",
    "                             shuffle=False,\n",
    "                             augment_data=False\n",
    "                            )\n",
    "    \n",
    "    def load_test_generator(self):\n",
    "        return DataGenerator(*self.test_data,\n",
    "                             batch_size=max(self.batch_size, self.ntrain),\n",
    "                             shuffle=False,\n",
    "                             augment_data=False\n",
    "                            )"
   ]
  },
  {
   "cell_type": "code",
   "execution_count": 3,
   "id": "2a346830",
   "metadata": {},
   "outputs": [],
   "source": [
    "# samples = 2\n",
    "# batch_size=64\n",
    "# image_shape = (224, 244, 3)\n",
    "# model_architecture = 'custom'\n",
    "# percent=0.6\n",
    "# learning_rate=0.001\n",
    "# epochs = 25"
   ]
  },
  {
   "cell_type": "code",
   "execution_count": 4,
   "id": "e002f806",
   "metadata": {},
   "outputs": [],
   "source": [
    "# data_loader = DataLoader(ntrain= samples,\n",
    "#                          batch_size=batch_size,\n",
    "#                          augment_data=True,\n",
    "#                          shuffle=True,\n",
    "#                          plot_distribuition=False)"
   ]
  },
  {
   "cell_type": "code",
   "execution_count": 5,
   "id": "504bf27c",
   "metadata": {},
   "outputs": [],
   "source": [
    "# train_data = data_loader.load_train_generator()\n",
    "# val_data   = data_loader.load_validation_generator()\n",
    "# test_data  = data_loader.load_test_generator()"
   ]
  },
  {
   "cell_type": "code",
   "execution_count": null,
   "id": "5fe764aa",
   "metadata": {},
   "outputs": [],
   "source": []
  }
 ],
 "metadata": {
  "kernelspec": {
   "display_name": "Python 3 (ipykernel)",
   "language": "python",
   "name": "python3"
  },
  "language_info": {
   "codemirror_mode": {
    "name": "ipython",
    "version": 3
   },
   "file_extension": ".py",
   "mimetype": "text/x-python",
   "name": "python",
   "nbconvert_exporter": "python",
   "pygments_lexer": "ipython3",
   "version": "3.9.16"
  }
 },
 "nbformat": 4,
 "nbformat_minor": 5
}
