{
 "cells": [
  {
   "cell_type": "code",
   "execution_count": 1,
   "id": "190d4a92",
   "metadata": {},
   "outputs": [],
   "source": [
    "%reload_ext autoreload"
   ]
  },
  {
   "cell_type": "code",
   "execution_count": 2,
   "id": "efc09f2a",
   "metadata": {
    "scrolled": false
   },
   "outputs": [
    {
     "name": "stdout",
     "output_type": "stream",
     "text": [
      "The autoreload extension is already loaded. To reload it, use:\n",
      "  %reload_ext autoreload\n"
     ]
    }
   ],
   "source": [
    "%load_ext autoreload"
   ]
  },
  {
   "cell_type": "code",
   "execution_count": 3,
   "id": "4e09c3e1",
   "metadata": {},
   "outputs": [],
   "source": [
    "%autoreload 2"
   ]
  },
  {
   "cell_type": "code",
   "execution_count": 4,
   "id": "236f8a36",
   "metadata": {
    "scrolled": true
   },
   "outputs": [],
   "source": [
    "import time\n",
    "import random\n",
    "import numpy as np\n",
    "import matplotlib.pyplot as plt\n",
    "import seaborn as sns\n",
    "from sklearn.metrics import confusion_matrix\n",
    "\n",
    "from keras.optimizers import Adam\n",
    "from keras.callbacks import ReduceLROnPlateau,EarlyStopping, LambdaCallback, ModelCheckpoint, CSVLogger\n",
    "from keras.models import load_model\n",
    "\n",
    "from ipynb.fs.full.DataLoader import DataLoader\n",
    "from ipynb.fs.full.Models import CNN_Model, MLP_MLPClassifier\n",
    "\n",
    "import seaborn as sns"
   ]
  },
  {
   "cell_type": "markdown",
   "id": "71c77112",
   "metadata": {},
   "source": [
    "### Parameters"
   ]
  },
  {
   "cell_type": "code",
   "execution_count": 5,
   "id": "117cccc5",
   "metadata": {},
   "outputs": [],
   "source": [
    "samplesTrain = random.randint(2500, 3000) #max : 5219 par ex 50 en normal et 50 en pneumonia à voir si intervalle random c'est mieux \n",
    "samplesVal = 19 #max : 19\n",
    "samplesTest = random.randint(400, 625) #max : 625\n",
    "\n",
    "batch_size=64\n",
    "model_architecture = 'custom'\n",
    "percent=0.6\n",
    "learning_rate=0.001\n",
    "epochs = 10\n",
    "\n",
    "random_state= 1\n",
    "max_iter=300"
   ]
  },
  {
   "cell_type": "code",
   "execution_count": 6,
   "id": "e3480771",
   "metadata": {
    "scrolled": true
   },
   "outputs": [
    {
     "name": "stdout",
     "output_type": "stream",
     "text": [
      "############################################################################################\n",
      "input\\train/NORMAL\n",
      "Processed image 1/71\n",
      "Processed image 2/71\n",
      "Processed image 3/71\n",
      "Processed image 4/71\n",
      "Processed image 5/71\n",
      "Processed image 6/71\n",
      "Processed image 7/71\n",
      "Processed image 8/71\n",
      "Processed image 9/71\n",
      "Processed image 10/71\n",
      "Processed image 11/71\n",
      "Processed image 12/71\n",
      "Processed image 13/71\n",
      "Processed image 14/71\n",
      "Processed image 15/71\n",
      "Processed image 16/71\n",
      "Processed image 17/71\n",
      "Processed image 18/71\n",
      "Processed image 19/71\n",
      "Processed image 20/71\n",
      "Processed image 21/71\n",
      "Processed image 22/71\n",
      "Processed image 23/71\n",
      "Processed image 24/71\n",
      "Processed image 25/71\n",
      "Processed image 26/71\n",
      "Processed image 27/71\n",
      "Processed image 28/71\n",
      "Processed image 29/71\n",
      "Processed image 30/71\n",
      "Processed image 31/71\n",
      "Processed image 32/71\n",
      "Processed image 33/71\n",
      "Processed image 34/71\n",
      "Processed image 35/71\n",
      "Processed image 36/71\n",
      "Processed image 37/71\n",
      "Processed image 38/71\n",
      "Processed image 39/71\n",
      "Processed image 40/71\n",
      "Processed image 41/71\n",
      "Processed image 42/71\n",
      "Processed image 43/71\n",
      "Processed image 44/71\n",
      "Processed image 45/71\n",
      "Processed image 46/71\n",
      "Processed image 47/71\n",
      "Processed image 48/71\n",
      "Processed image 49/71\n",
      "Processed image 50/71\n",
      "Processed image 51/71\n",
      "Processed image 52/71\n",
      "Processed image 53/71\n",
      "Processed image 54/71\n",
      "Processed image 55/71\n",
      "Processed image 56/71\n",
      "Processed image 57/71\n",
      "Processed image 58/71\n",
      "Processed image 59/71\n",
      "Processed image 60/71\n",
      "Processed image 61/71\n",
      "Processed image 62/71\n",
      "Processed image 63/71\n",
      "Processed image 64/71\n",
      "Processed image 65/71\n",
      "Processed image 66/71\n",
      "Processed image 67/71\n",
      "Processed image 68/71\n",
      "Processed image 69/71\n",
      "Processed image 70/71\n",
      "############################################################################################\n",
      "input\\train/PNEUMONIA\n",
      "Processed image 1/71\n",
      "Processed image 2/71\n",
      "Processed image 3/71\n",
      "Processed image 4/71\n",
      "Processed image 5/71\n",
      "Processed image 6/71\n",
      "Processed image 7/71\n",
      "Processed image 8/71\n",
      "Processed image 9/71\n",
      "Processed image 10/71\n",
      "Processed image 11/71\n",
      "Processed image 12/71\n",
      "Processed image 13/71\n",
      "Processed image 14/71\n",
      "Processed image 15/71\n",
      "Processed image 16/71\n",
      "Processed image 17/71\n",
      "Processed image 18/71\n",
      "Processed image 19/71\n",
      "Processed image 20/71\n",
      "Processed image 21/71\n",
      "Processed image 22/71\n",
      "Processed image 23/71\n",
      "Processed image 24/71\n",
      "Processed image 25/71\n",
      "Processed image 26/71\n",
      "Processed image 27/71\n",
      "Processed image 28/71\n",
      "Processed image 29/71\n",
      "Processed image 30/71\n",
      "Processed image 31/71\n",
      "Processed image 32/71\n",
      "Processed image 33/71\n",
      "Processed image 34/71\n",
      "Processed image 35/71\n",
      "Processed image 36/71\n",
      "Processed image 37/71\n",
      "Processed image 38/71\n",
      "Processed image 39/71\n",
      "Processed image 40/71\n",
      "Processed image 41/71\n",
      "Processed image 42/71\n",
      "Processed image 43/71\n",
      "Processed image 44/71\n",
      "Processed image 45/71\n",
      "Processed image 46/71\n",
      "Processed image 47/71\n",
      "Processed image 48/71\n",
      "Processed image 49/71\n",
      "Processed image 50/71\n",
      "Processed image 51/71\n",
      "Processed image 52/71\n",
      "Processed image 53/71\n",
      "Processed image 54/71\n",
      "Processed image 55/71\n",
      "Processed image 56/71\n",
      "Processed image 57/71\n",
      "Processed image 58/71\n",
      "Processed image 59/71\n",
      "Processed image 60/71\n",
      "Processed image 61/71\n",
      "Processed image 62/71\n",
      "Processed image 63/71\n",
      "Processed image 64/71\n",
      "Processed image 65/71\n",
      "Processed image 66/71\n",
      "Processed image 67/71\n",
      "Processed image 68/71\n",
      "Processed image 69/71\n",
      "Processed image 70/71\n",
      "############################################################################################\n",
      "input\\test/NORMAL\n",
      "Processed image 1/7\n",
      "Processed image 2/7\n",
      "Processed image 3/7\n",
      "Processed image 4/7\n",
      "Processed image 5/7\n",
      "Processed image 6/7\n",
      "Processed image 7/7\n",
      "############################################################################################\n",
      "input\\test/PNEUMONIA\n",
      "Processed image 1/7\n",
      "Processed image 2/7\n",
      "Processed image 3/7\n",
      "Processed image 4/7\n",
      "Processed image 5/7\n",
      "Processed image 6/7\n",
      "Processed image 7/7\n",
      "############################################################################################\n",
      "input\\val/NORMAL\n",
      "Processed image 1/9\n",
      "Processed image 2/9\n",
      "Processed image 3/9\n",
      "Processed image 4/9\n",
      "Processed image 5/9\n",
      "Processed image 6/9\n",
      "Processed image 7/9\n",
      "Processed image 8/9\n",
      "############################################################################################\n",
      "input\\val/PNEUMONIA\n",
      "Processed image 1/9\n",
      "Processed image 2/9\n",
      "Processed image 3/9\n",
      "Processed image 4/9\n",
      "Processed image 5/9\n",
      "Processed image 6/9\n",
      "Processed image 7/9\n",
      "Processed image 8/9\n",
      "train_normal :  (70, 224, 224, 3)\n",
      "train_pneumonia :  (70, 224, 224, 3)\n"
     ]
    }
   ],
   "source": [
    "data_loader = DataLoader(samplesTrain,\n",
    "                         samplesVal,\n",
    "                         samplesTest,\n",
    "                         batch_size=batch_size,\n",
    "                         augment_data=True,\n",
    "                         shuffle=True)"
   ]
  },
  {
   "cell_type": "code",
   "execution_count": 7,
   "id": "d6018341",
   "metadata": {},
   "outputs": [],
   "source": [
    "train_data = data_loader.load_train_generator()\n",
    "val_data   = data_loader.load_validation_generator()\n",
    "test_data  = data_loader.load_test_generator()"
   ]
  },
  {
   "cell_type": "markdown",
   "id": "c8c225dd",
   "metadata": {},
   "source": [
    "### Create CNN model"
   ]
  },
  {
   "cell_type": "markdown",
   "id": "a0a9118c",
   "metadata": {},
   "source": [
    "### Load data"
   ]
  },
  {
   "cell_type": "code",
   "execution_count": 8,
   "id": "a23d627d",
   "metadata": {
    "scrolled": false
   },
   "outputs": [],
   "source": [
    "model = MLP_MLPClassifier(activation='relu',\n",
    "                          random_state=random_state,\n",
    "                          max_iter=max_iter,\n",
    "                          batch_size=64)"
   ]
  },
  {
   "cell_type": "markdown",
   "id": "8734a758",
   "metadata": {},
   "source": [
    "#### Train Model"
   ]
  },
  {
   "cell_type": "code",
   "execution_count": 9,
   "id": "d0300556",
   "metadata": {
    "scrolled": true
   },
   "outputs": [
    {
     "name": "stdout",
     "output_type": "stream",
     "text": [
      "Augmentation des donnÃ©es\n"
     ]
    }
   ],
   "source": [
    "train_X, train_y = train_data[0]\n",
    "val_X, val_y = val_data[0]\n",
    "test_X, test_y = test_data[0]"
   ]
  },
  {
   "cell_type": "code",
   "execution_count": 25,
   "id": "72ae2689",
   "metadata": {},
   "outputs": [],
   "source": [
    "train_X = train_X.reshape(train_X.shape[0], -1)\n",
    "val_X = val_X.reshape(val_X.shape[0], -1)\n",
    "test_X = test_X.reshape(test_X.shape[0], -1)"
   ]
  },
  {
   "cell_type": "code",
   "execution_count": 26,
   "id": "96f845e2",
   "metadata": {
    "scrolled": false
   },
   "outputs": [],
   "source": [
    "# model_fit = model.fit(\n",
    "#         X = train_X, #images\n",
    "#         y = train_y, #labels\n",
    "#     )      "
   ]
  },
  {
   "cell_type": "code",
   "execution_count": 27,
   "id": "46443e16",
   "metadata": {},
   "outputs": [
    {
     "data": {
      "image/png": "[encoded data removed]",
      "text/plain": [
       "<Figure size 600x600 with 2 Axes>"
      ]
     },
     "metadata": {},
     "output_type": "display_data"
    }
   ],
   "source": [
    "train_losses = []\n",
    "val_losses = []\n",
    "train_accs = []\n",
    "val_accs = []\n",
    "\n",
    "for epoch in range(100):\n",
    "    model.partial_fit(train_X, train_y, classes=np.unique(train_y))\n",
    "    train_acc = model.score(train_X, train_y)\n",
    "    val_acc = model.score(val_X, val_y)\n",
    "    train_losses.append(model.model.loss_)\n",
    "    val_losses.append(model.model.loss_)\n",
    "    train_accs.append(train_acc)\n",
    "    val_accs.append(val_acc)\n",
    "\n",
    "fig, ax = plt.subplots(2, 1, figsize=(6, 6))\n",
    "ax[0].plot(train_losses, label=\"TrainLoss\")\n",
    "ax[0].plot(val_losses, label=\"ValLoss\")\n",
    "ax[0].legend(loc='best', shadow=True)\n",
    "\n",
    "ax[1].plot(train_accs, label=\"TrainAcc\")\n",
    "ax[1].plot(val_accs, label=\"ValAcc\")\n",
    "ax[1].legend(loc='best', shadow=True)\n",
    "plt.show()"
   ]
  },
  {
   "cell_type": "markdown",
   "id": "422e4d70",
   "metadata": {},
   "source": [
    "### Evaluating Model on Test Data"
   ]
  },
  {
   "cell_type": "code",
   "execution_count": 28,
   "id": "855cbc40",
   "metadata": {},
   "outputs": [],
   "source": [
    "train_score = model.score(train_X, train_y)"
   ]
  },
  {
   "cell_type": "code",
   "execution_count": 29,
   "id": "a4527c3b",
   "metadata": {
    "scrolled": true
   },
   "outputs": [
    {
     "name": "stdout",
     "output_type": "stream",
     "text": [
      "\n",
      "Model Accuracy Train:  0.9859154929577465\n"
     ]
    }
   ],
   "source": [
    "print('\\nModel Accuracy Train: ', train_score)"
   ]
  },
  {
   "cell_type": "code",
   "execution_count": 30,
   "id": "a927262d",
   "metadata": {},
   "outputs": [],
   "source": [
    "val_score = model.score(val_X, val_y)"
   ]
  },
  {
   "cell_type": "code",
   "execution_count": 31,
   "id": "1c55c3f4",
   "metadata": {
    "scrolled": true
   },
   "outputs": [
    {
     "name": "stdout",
     "output_type": "stream",
     "text": [
      "\n",
      "Model Accuracy Validation:  0.5\n"
     ]
    }
   ],
   "source": [
    "print('\\nModel Accuracy Validation: ', val_score)"
   ]
  },
  {
   "cell_type": "markdown",
   "id": "8fbd10fd",
   "metadata": {},
   "source": [
    "### Matrix Confusion"
   ]
  },
  {
   "cell_type": "code",
   "execution_count": 32,
   "id": "3919c6fd",
   "metadata": {},
   "outputs": [],
   "source": [
    "\"\"\"\n",
    "Predict the labels on test_X\n",
    "if > 0.5 => + sinon -\n",
    "\"\"\"\n",
    "predict_out = model.predict(test_X)\n",
    "test_predict = (predict_out > 0.5).astype(np.int8)"
   ]
  },
  {
   "cell_type": "code",
   "execution_count": 33,
   "id": "da17b951",
   "metadata": {
    "scrolled": true
   },
   "outputs": [
    {
     "name": "stdout",
     "output_type": "stream",
     "text": [
      "[0. 0. 0. 0. 0. 0. 0.] \n",
      " [0 0 0 0 0 0 0] \n",
      " [0. 0. 0. 0. 0. 0. 0.]\n"
     ]
    }
   ],
   "source": [
    "print(predict_out,'\\n',test_predict, '\\n', test_y)"
   ]
  },
  {
   "cell_type": "code",
   "execution_count": 34,
   "id": "523c916c",
   "metadata": {},
   "outputs": [],
   "source": [
    "conf_matrix = confusion_matrix(y_true=test_y, y_pred=test_predict)"
   ]
  },
  {
   "cell_type": "code",
   "execution_count": 35,
   "id": "033b8a1e",
   "metadata": {},
   "outputs": [
    {
     "data": {
      "image/png": "[encoded data removed]",
      "text/plain": [
       "<Figure size 640x480 with 1 Axes>"
      ]
     },
     "metadata": {},
     "output_type": "display_data"
    }
   ],
   "source": [
    "sns.heatmap(conf_matrix, annot=True, cmap='Blues', cbar=False, square=True, xticklabels=['Normal','Pneumonia'], yticklabels=['Normal','Pneumonia'])\n",
    "plt.title('Confusion Matrix')\n",
    "plt.ylabel('True label')\n",
    "plt.xlabel('Predicted label')\n",
    "plt.show()"
   ]
  },
  {
   "cell_type": "code",
   "execution_count": null,
   "id": "61343289",
   "metadata": {},
   "outputs": [],
   "source": []
  }
 ],
 "metadata": {
  "kernelspec": {
   "display_name": "Python 3 (ipykernel)",
   "language": "python",
   "name": "python3"
  },
  "language_info": {
   "codemirror_mode": {
    "name": "ipython",
    "version": 3
   },
   "file_extension": ".py",
   "mimetype": "text/x-python",
   "name": "python",
   "nbconvert_exporter": "python",
   "pygments_lexer": "ipython3",
   "version": "3.9.16"
  }
 },
 "nbformat": 4,
 "nbformat_minor": 5
}
