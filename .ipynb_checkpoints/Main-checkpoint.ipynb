{
 "cells": [
  {
   "cell_type": "code",
   "execution_count": 1,
   "id": "236f8a36",
   "metadata": {
    "scrolled": true
   },
   "outputs": [],
   "source": [
    "import time\n",
    "import numpy as np\n",
    "import matplotlib.pyplot as plt\n",
    "import seaborn as sns\n",
    "from sklearn.metrics import confusion_matrix\n",
    "\n",
    "from keras.optimizers import Adam\n",
    "from keras.callbacks import ReduceLROnPlateau,EarlyStopping, LambdaCallback, ModelCheckpoint\n",
    "from keras.models import load_model\n",
    "\n",
    "from ipynb.fs.full.DataLoader import DataLoader\n",
    "from ipynb.fs.full.Models import CNN_Model\n",
    "\n",
    "import seaborn as sns"
   ]
  },
  {
   "cell_type": "markdown",
   "id": "71c77112",
   "metadata": {},
   "source": [
    "### Parameters"
   ]
  },
  {
   "cell_type": "code",
   "execution_count": 2,
   "id": "117cccc5",
   "metadata": {},
   "outputs": [],
   "source": [
    "samplesTrain = 100 #max : 5218 par ex 50 en normal et 50 en pneumonia à voir si intervalle random c'est mieux \n",
    "samplesVal = 18 #max : 18\n",
    "samplesTest = 30 #max : 859\n",
    "\n",
    "batch_size=64\n",
    "model_architecture = 'custom'\n",
    "percent=0.6\n",
    "learning_rate=0.001\n",
    "epochs = 10"
   ]
  },
  {
   "cell_type": "code",
   "execution_count": 3,
   "id": "e3480771",
   "metadata": {},
   "outputs": [
    {
     "name": "stdout",
     "output_type": "stream",
     "text": [
      "############################################################################################\n",
      "input\\train/NORMAL\n",
      "Processed image 1/100\n",
      "Processed image 2/100\n",
      "Processed image 3/100\n",
      "Processed image 4/100\n",
      "Processed image 5/100\n",
      "Processed image 6/100\n",
      "Processed image 7/100\n",
      "Processed image 8/100\n",
      "Processed image 9/100\n",
      "Processed image 10/100\n",
      "Processed image 11/100\n",
      "Processed image 12/100\n",
      "Processed image 13/100\n",
      "Processed image 14/100\n",
      "Processed image 15/100\n",
      "Processed image 16/100\n",
      "Processed image 17/100\n",
      "Processed image 18/100\n",
      "Processed image 19/100\n",
      "Processed image 20/100\n",
      "Processed image 21/100\n",
      "Processed image 22/100\n",
      "Processed image 23/100\n",
      "Processed image 24/100\n",
      "Processed image 25/100\n",
      "Processed image 26/100\n",
      "Processed image 27/100\n",
      "Processed image 28/100\n",
      "Processed image 29/100\n",
      "Processed image 30/100\n",
      "Processed image 31/100\n",
      "Processed image 32/100\n",
      "Processed image 33/100\n",
      "Processed image 34/100\n",
      "Processed image 35/100\n",
      "Processed image 36/100\n",
      "Processed image 37/100\n",
      "Processed image 38/100\n",
      "Processed image 39/100\n",
      "Processed image 40/100\n",
      "Processed image 41/100\n",
      "Processed image 42/100\n",
      "Processed image 43/100\n",
      "Processed image 44/100\n",
      "Processed image 45/100\n",
      "Processed image 46/100\n",
      "Processed image 47/100\n",
      "Processed image 48/100\n",
      "Processed image 49/100\n",
      "Processed image 50/100\n",
      "Processed image 51/100\n",
      "Processed image 52/100\n",
      "Processed image 53/100\n",
      "Processed image 54/100\n",
      "Processed image 55/100\n",
      "Processed image 56/100\n",
      "Processed image 57/100\n",
      "Processed image 58/100\n",
      "Processed image 59/100\n",
      "Processed image 60/100\n",
      "Processed image 61/100\n",
      "Processed image 62/100\n",
      "Processed image 63/100\n",
      "Processed image 64/100\n",
      "Processed image 65/100\n",
      "Processed image 66/100\n",
      "Processed image 67/100\n",
      "Processed image 68/100\n",
      "Processed image 69/100\n",
      "Processed image 70/100\n",
      "Processed image 71/100\n",
      "Processed image 72/100\n",
      "Processed image 73/100\n",
      "Processed image 74/100\n",
      "Processed image 75/100\n",
      "Processed image 76/100\n",
      "Processed image 77/100\n",
      "Processed image 78/100\n",
      "Processed image 79/100\n",
      "Processed image 80/100\n",
      "Processed image 81/100\n",
      "Processed image 82/100\n",
      "Processed image 83/100\n",
      "Processed image 84/100\n",
      "Processed image 85/100\n",
      "Processed image 86/100\n",
      "Processed image 87/100\n",
      "Processed image 88/100\n",
      "Processed image 89/100\n",
      "Processed image 90/100\n",
      "Processed image 91/100\n",
      "Processed image 92/100\n",
      "Processed image 93/100\n",
      "Processed image 94/100\n",
      "Processed image 95/100\n",
      "Processed image 96/100\n",
      "Processed image 97/100\n",
      "Processed image 98/100\n",
      "Processed image 99/100\n",
      "############################################################################################\n",
      "input\\train/PNEUMONIA\n",
      "Processed image 1/100\n",
      "Processed image 2/100\n",
      "Processed image 3/100\n",
      "Processed image 4/100\n",
      "Processed image 5/100\n",
      "Processed image 6/100\n",
      "Processed image 7/100\n",
      "Processed image 8/100\n",
      "Processed image 9/100\n",
      "Processed image 10/100\n",
      "Processed image 11/100\n",
      "Processed image 12/100\n",
      "Processed image 13/100\n",
      "Processed image 14/100\n",
      "Processed image 15/100\n",
      "Processed image 16/100\n",
      "Processed image 17/100\n",
      "Processed image 18/100\n",
      "Processed image 19/100\n",
      "Processed image 20/100\n",
      "Processed image 21/100\n",
      "Processed image 22/100\n",
      "Processed image 23/100\n",
      "Processed image 24/100\n",
      "Processed image 25/100\n",
      "Processed image 26/100\n",
      "Processed image 27/100\n",
      "Processed image 28/100\n",
      "Processed image 29/100\n",
      "Processed image 30/100\n",
      "Processed image 31/100\n",
      "Processed image 32/100\n",
      "Processed image 33/100\n",
      "Processed image 34/100\n",
      "Processed image 35/100\n",
      "Processed image 36/100\n",
      "Processed image 37/100\n",
      "Processed image 38/100\n",
      "Processed image 39/100\n",
      "Processed image 40/100\n",
      "Processed image 41/100\n",
      "Processed image 42/100\n",
      "Processed image 43/100\n",
      "Processed image 44/100\n",
      "Processed image 45/100\n",
      "Processed image 46/100\n",
      "Processed image 47/100\n",
      "Processed image 48/100\n",
      "Processed image 49/100\n",
      "Processed image 50/100\n",
      "Processed image 51/100\n",
      "Processed image 52/100\n",
      "Processed image 53/100\n",
      "Processed image 54/100\n",
      "Processed image 55/100\n",
      "Processed image 56/100\n",
      "Processed image 57/100\n",
      "Processed image 58/100\n",
      "Processed image 59/100\n",
      "Processed image 60/100\n",
      "Processed image 61/100\n",
      "Processed image 62/100\n",
      "Processed image 63/100\n",
      "Processed image 64/100\n",
      "Processed image 65/100\n",
      "Processed image 66/100\n",
      "Processed image 67/100\n",
      "Processed image 68/100\n",
      "Processed image 69/100\n",
      "Processed image 70/100\n",
      "Processed image 71/100\n",
      "Processed image 72/100\n",
      "Processed image 73/100\n",
      "Processed image 74/100\n",
      "Processed image 75/100\n",
      "Processed image 76/100\n",
      "Processed image 77/100\n",
      "Processed image 78/100\n",
      "Processed image 79/100\n",
      "Processed image 80/100\n",
      "Processed image 81/100\n",
      "Processed image 82/100\n",
      "Processed image 83/100\n",
      "Processed image 84/100\n",
      "Processed image 85/100\n",
      "Processed image 86/100\n",
      "Processed image 87/100\n",
      "Processed image 88/100\n",
      "Processed image 89/100\n",
      "Processed image 90/100\n",
      "Processed image 91/100\n",
      "Processed image 92/100\n",
      "Processed image 93/100\n",
      "Processed image 94/100\n",
      "Processed image 95/100\n",
      "Processed image 96/100\n",
      "Processed image 97/100\n",
      "Processed image 98/100\n",
      "Processed image 99/100\n",
      "############################################################################################\n",
      "input\\test/NORMAL\n",
      "Processed image 1/30\n",
      "Processed image 2/30\n",
      "Processed image 3/30\n",
      "Processed image 4/30\n",
      "Processed image 5/30\n",
      "Processed image 6/30\n",
      "Processed image 7/30\n",
      "Processed image 8/30\n",
      "Processed image 9/30\n",
      "Processed image 10/30\n",
      "Processed image 11/30\n",
      "Processed image 12/30\n",
      "Processed image 13/30\n",
      "Processed image 14/30\n",
      "Processed image 15/30\n",
      "Processed image 16/30\n",
      "Processed image 17/30\n",
      "Processed image 18/30\n",
      "Processed image 19/30\n",
      "Processed image 20/30\n",
      "Processed image 21/30\n",
      "Processed image 22/30\n",
      "Processed image 23/30\n",
      "Processed image 24/30\n",
      "Processed image 25/30\n",
      "Processed image 26/30\n",
      "Processed image 27/30\n",
      "Processed image 28/30\n",
      "Processed image 29/30\n",
      "Processed image 30/30\n",
      "############################################################################################\n",
      "input\\test/PNEUMONIA\n",
      "Processed image 1/30\n",
      "Processed image 2/30\n",
      "Processed image 3/30\n",
      "Processed image 4/30\n",
      "Processed image 5/30\n",
      "Processed image 6/30\n",
      "Processed image 7/30\n",
      "Processed image 8/30\n",
      "Processed image 9/30\n",
      "Processed image 10/30\n",
      "Processed image 11/30\n",
      "Processed image 12/30\n",
      "Processed image 13/30\n",
      "Processed image 14/30\n",
      "Processed image 15/30\n",
      "Processed image 16/30\n",
      "Processed image 17/30\n",
      "Processed image 18/30\n",
      "Processed image 19/30\n",
      "Processed image 20/30\n",
      "Processed image 21/30\n",
      "Processed image 22/30\n",
      "Processed image 23/30\n",
      "Processed image 24/30\n",
      "Processed image 25/30\n",
      "Processed image 26/30\n",
      "Processed image 27/30\n",
      "Processed image 28/30\n",
      "Processed image 29/30\n",
      "Processed image 30/30\n",
      "############################################################################################\n",
      "input\\val/NORMAL\n",
      "Processed image 1/9\n",
      "Processed image 2/9\n",
      "Processed image 3/9\n",
      "Processed image 4/9\n",
      "Processed image 5/9\n",
      "Processed image 6/9\n",
      "Processed image 7/9\n",
      "Processed image 8/9\n",
      "############################################################################################\n",
      "input\\val/PNEUMONIA\n",
      "Processed image 1/9\n",
      "Processed image 2/9\n",
      "Processed image 3/9\n",
      "Processed image 4/9\n",
      "Processed image 5/9\n",
      "Processed image 6/9\n",
      "Processed image 7/9\n",
      "Processed image 8/9\n",
      "train_normal :  (99, 224, 224, 3)\n",
      "train_pneumonia :  (99, 224, 224, 3)\n"
     ]
    }
   ],
   "source": [
    "data_loader = DataLoader(samplesTrain,\n",
    "                         samplesVal,\n",
    "                         samplesTest,\n",
    "                         batch_size=batch_size,\n",
    "                         augment_data=True,\n",
    "                         shuffle=True)"
   ]
  },
  {
   "cell_type": "code",
   "execution_count": 4,
   "id": "d6018341",
   "metadata": {},
   "outputs": [],
   "source": [
    "train_data = data_loader.load_train_generator()\n",
    "val_data   = data_loader.load_validation_generator()\n",
    "test_data  = data_loader.load_test_generator()"
   ]
  },
  {
   "cell_type": "markdown",
   "id": "c8c225dd",
   "metadata": {},
   "source": [
    "### Create CNN model"
   ]
  },
  {
   "cell_type": "markdown",
   "id": "a0a9118c",
   "metadata": {},
   "source": [
    "### Load data"
   ]
  },
  {
   "cell_type": "code",
   "execution_count": 5,
   "id": "a23d627d",
   "metadata": {
    "scrolled": false
   },
   "outputs": [],
   "source": [
    "model = CNN_Model(chosenModel=\"custom\",\n",
    "                  percentTrain=percent).get_model()"
   ]
  },
  {
   "cell_type": "code",
   "execution_count": 6,
   "id": "e1a80da5",
   "metadata": {},
   "outputs": [],
   "source": [
    "#https://www.tensorflow.org/api_docs/python/tf/keras/optimizers/Adam\n",
    "optimizer = Adam(\n",
    "    learning_rate=learning_rate,\n",
    "    beta_1=0.9,\n",
    "    beta_2=0.999,\n",
    "    epsilon=1e-07,\n",
    "    amsgrad=False,\n",
    "    clipnorm=None,\n",
    "    clipvalue=None,\n",
    "    global_clipnorm=None,\n",
    "    name='Adam'\n",
    ")"
   ]
  },
  {
   "cell_type": "code",
   "execution_count": 7,
   "id": "cda9d4a2",
   "metadata": {},
   "outputs": [],
   "source": [
    "model.compile(optimizer=optimizer, loss=\"binary_crossentropy\", metrics=['accuracy'])"
   ]
  },
  {
   "cell_type": "markdown",
   "id": "ecb00952",
   "metadata": {},
   "source": [
    "#### Callbacks\n",
    "https://www.tensorflow.org/api_docs/python/tf/keras/callbacks\n",
    "\n",
    "https://www.tensorflow.org/api_docs/python/tf/keras/callbacks/ReduceLROnPlateau\n",
    "\n",
    "https://www.tensorflow.org/api_docs/python/tf/keras/callbacks/EarlyStopping\n",
    "\n",
    "https://www.tensorflow.org/api_docs/python/tf/keras/callbacks/LambdaCallback utilisez ici pour liberez de l'espace !!"
   ]
  },
  {
   "cell_type": "code",
   "execution_count": 8,
   "id": "faba5db2",
   "metadata": {},
   "outputs": [],
   "source": [
    "\"\"\"Reduce learning rate when a metric has stopped improving.\"\"\"\n",
    "reduce_lr = ReduceLROnPlateau(monitor='val_loss', factor=0.2, patience=5, min_lr=0.001)"
   ]
  },
  {
   "cell_type": "code",
   "execution_count": 9,
   "id": "6493ba39",
   "metadata": {},
   "outputs": [],
   "source": [
    "\"\"\"Stop training when a monitored metric has stopped improving.\n",
    "\"\"\"\n",
    "early_stopping = EarlyStopping(\n",
    "    monitor='val_loss',\n",
    "    min_delta=0,\n",
    "    patience=15,\n",
    "    verbose=0,\n",
    "    mode='auto',\n",
    "    baseline=None,\n",
    "    restore_best_weights=False,\n",
    ")"
   ]
  },
  {
   "cell_type": "code",
   "execution_count": 10,
   "id": "8c1f8afe",
   "metadata": {},
   "outputs": [],
   "source": [
    "\"\"\"Callback for creating simple, custom callbacks on-the-fly.\n",
    "\n",
    "\"\"\"\n",
    "lambda_callback =  LambdaCallback(on_epoch_end=lambda epoch, \n",
    "                                  logs: time.sleep(5), \n",
    "                                  on_batch_end=lambda batch,\n",
    "                                  logs: time.sleep(20))"
   ]
  },
  {
   "cell_type": "markdown",
   "id": "8734a758",
   "metadata": {},
   "source": [
    "#### Train Model"
   ]
  },
  {
   "cell_type": "code",
   "execution_count": 11,
   "id": "36abd29b",
   "metadata": {},
   "outputs": [
    {
     "name": "stdout",
     "output_type": "stream",
     "text": [
      "Model: \"sequential\"\n",
      "_________________________________________________________________\n",
      " Layer (type)                Output Shape              Param #   \n",
      "=================================================================\n",
      " conv2d (Conv2D)             (None, 224, 224, 32)      896       \n",
      "                                                                 \n",
      " conv2d_1 (Conv2D)           (None, 224, 224, 32)      9248      \n",
      "                                                                 \n",
      " batch_normalization (BatchN  (None, 224, 224, 32)     128       \n",
      " ormalization)                                                   \n",
      "                                                                 \n",
      " dropout (Dropout)           (None, 224, 224, 32)      0         \n",
      "                                                                 \n",
      " conv2d_2 (Conv2D)           (None, 224, 224, 32)      9248      \n",
      "                                                                 \n",
      " conv2d_3 (Conv2D)           (None, 224, 224, 32)      9248      \n",
      "                                                                 \n",
      " batch_normalization_1 (Batc  (None, 224, 224, 32)     128       \n",
      " hNormalization)                                                 \n",
      "                                                                 \n",
      " dropout_1 (Dropout)         (None, 224, 224, 32)      0         \n",
      "                                                                 \n",
      " conv2d_4 (Conv2D)           (None, 224, 224, 64)      18496     \n",
      "                                                                 \n",
      " conv2d_5 (Conv2D)           (None, 224, 224, 64)      36928     \n",
      "                                                                 \n",
      " batch_normalization_2 (Batc  (None, 224, 224, 64)     256       \n",
      " hNormalization)                                                 \n",
      "                                                                 \n",
      " dropout_2 (Dropout)         (None, 224, 224, 64)      0         \n",
      "                                                                 \n",
      " flatten (Flatten)           (None, 3211264)           0         \n",
      "                                                                 \n",
      " dense (Dense)               (None, 128)               411041920 \n",
      "                                                                 \n",
      " dropout_3 (Dropout)         (None, 128)               0         \n",
      "                                                                 \n",
      " dense_1 (Dense)             (None, 1)                 129       \n",
      "                                                                 \n",
      "=================================================================\n",
      "Total params: 411,126,625\n",
      "Trainable params: 411,126,369\n",
      "Non-trainable params: 256\n",
      "_________________________________________________________________\n"
     ]
    }
   ],
   "source": [
    "model.summary()"
   ]
  },
  {
   "cell_type": "code",
   "execution_count": 12,
   "id": "d0300556",
   "metadata": {
    "scrolled": true
   },
   "outputs": [
    {
     "name": "stdout",
     "output_type": "stream",
     "text": [
      "Augmentation des donnÃ©es\n"
     ]
    }
   ],
   "source": [
    "train_X, train_y = train_data[0]\n",
    "val_X, val_y = val_data[0]\n",
    "test_X, test_y = test_data[0]"
   ]
  },
  {
   "cell_type": "code",
   "execution_count": 13,
   "id": "96f845e2",
   "metadata": {
    "scrolled": false
   },
   "outputs": [
    {
     "name": "stdout",
     "output_type": "stream",
     "text": [
      "Epoch 1/10\n",
      "WARNING:tensorflow:Your input ran out of data; interrupting training. Make sure that your dataset or generator can generate at least `steps_per_epoch * epochs` batches (in this case, 1000 batches). You may need to use the repeat() function when building your dataset.\n",
      "100/100 - 9612s - loss: 133.3537 - accuracy: 0.9270 - val_loss: 0.0000e+00 - val_accuracy: 1.0000 - lr: 0.0010 - 9612s/epoch - 96s/step\n"
     ]
    }
   ],
   "source": [
    "# https://www.tensorflow.org/api_docs/python/tf/keras/Model#fit\n",
    "# https://github.com/keras-team/keras/blob/v2.12.0/keras/engine/training.py#L1338-L1761\n",
    "# https://faroit.com/keras-docs/1.2.0/models/model/\n",
    "model_fit = model.fit(\n",
    "        x = train_X, #images\n",
    "        y = train_y, #labels\n",
    "        batch_size=batch_size,\n",
    "        epochs=epochs,\n",
    "        verbose=2,\n",
    "       callbacks=[reduce_lr, early_stopping, lambda_callback],\n",
    "        validation_split=0.0,\n",
    "        validation_data=(val_X, val_y),\n",
    "#         shuffle=True,\n",
    "#         class_weight=None,\n",
    "#         sample_weight=None,\n",
    "        initial_epoch=0,\n",
    "        steps_per_epoch=len(train_X),\n",
    "#         validation_steps=len(val_X),\n",
    "#         validation_batch_size=None,\n",
    "#         validation_freq=1,\n",
    "#         max_queue_size=10,\n",
    "#         workers=1,\n",
    "#         use_multiprocessing=False,\n",
    "    )      "
   ]
  },
  {
   "cell_type": "code",
   "execution_count": 14,
   "id": "46443e16",
   "metadata": {},
   "outputs": [
    {
     "data": {
      "image/png": "[encoded data removed]",
      "text/plain": [
       "<Figure size 600x600 with 2 Axes>"
      ]
     },
     "metadata": {},
     "output_type": "display_data"
    }
   ],
   "source": [
    "fig, ax = plt.subplots(2, 1, figsize=(6, 6))\n",
    "ax[0].plot(model_fit.history['loss'], label=\"TrainLoss\")\n",
    "ax[0].plot(model_fit.history['val_loss'], label=\"ValLoss\")\n",
    "ax[0].legend(loc='best', shadow=True)\n",
    "\n",
    "ax[1].plot(model_fit.history['accuracy'], label=\"TrainAcc\")\n",
    "ax[1].plot(model_fit.history['val_accuracy'], label=\"ValAcc\")\n",
    "ax[1].legend(loc='best', shadow=True)\n",
    "plt.show()"
   ]
  },
  {
   "cell_type": "markdown",
   "id": "422e4d70",
   "metadata": {},
   "source": [
    "### Evaluating Model on Test Data"
   ]
  },
  {
   "cell_type": "code",
   "execution_count": 15,
   "id": "855cbc40",
   "metadata": {},
   "outputs": [
    {
     "name": "stdout",
     "output_type": "stream",
     "text": [
      "1/1 [==============================] - 9s 9s/step - loss: 441.3943 - accuracy: 0.5000\n"
     ]
    }
   ],
   "source": [
    "test_score = model.evaluate(test_X, test_y, batch_size=64)"
   ]
  },
  {
   "cell_type": "code",
   "execution_count": 16,
   "id": "1c55c3f4",
   "metadata": {},
   "outputs": [
    {
     "name": "stdout",
     "output_type": "stream",
     "text": [
      "\n",
      "Model Accuracy:  0.5\n"
     ]
    }
   ],
   "source": [
    "print('\\nModel Accuracy: ', test_score[1])"
   ]
  },
  {
   "cell_type": "markdown",
   "id": "8fbd10fd",
   "metadata": {},
   "source": [
    "### Matrix Confusion"
   ]
  },
  {
   "cell_type": "code",
   "execution_count": 17,
   "id": "3919c6fd",
   "metadata": {},
   "outputs": [
    {
     "name": "stdout",
     "output_type": "stream",
     "text": [
      "1/1 [==============================] - 1s 847ms/step\n"
     ]
    }
   ],
   "source": [
    "predict_out = model.predict(test_X, batch_size=64)\n",
    "test_predict = (predict_out > 0.5).astype(np.int8)"
   ]
  },
  {
   "cell_type": "code",
   "execution_count": 18,
   "id": "523c916c",
   "metadata": {},
   "outputs": [],
   "source": [
    "conf_matrix = confusion_matrix(y_true=data_loader.test_data[1], y_pred=test_predict)"
   ]
  },
  {
   "cell_type": "code",
   "execution_count": 19,
   "id": "033b8a1e",
   "metadata": {},
   "outputs": [
    {
     "data": {
      "image/png": "[encoded data removed]",
      "text/plain": [
       "<Figure size 640x480 with 1 Axes>"
      ]
     },
     "metadata": {},
     "output_type": "display_data"
    }
   ],
   "source": [
    "sns.heatmap(conf_matrix, annot=True, cmap='Blues', cbar=False, square=True, xticklabels=['Normal','Abnormal'], yticklabels=['Normal','Abnormal'])\n",
    "plt.title('Confusion Matrix')\n",
    "plt.ylabel('True label')\n",
    "plt.xlabel('Predicted label')\n",
    "plt.show()"
   ]
  }
 ],
 "metadata": {
  "kernelspec": {
   "display_name": "Python 3 (ipykernel)",
   "language": "python",
   "name": "python3"
  },
  "language_info": {
   "codemirror_mode": {
    "name": "ipython",
    "version": 3
   },
   "file_extension": ".py",
   "mimetype": "text/x-python",
   "name": "python",
   "nbconvert_exporter": "python",
   "pygments_lexer": "ipython3",
   "version": "3.9.16"
  }
 },
 "nbformat": 4,
 "nbformat_minor": 5
}
