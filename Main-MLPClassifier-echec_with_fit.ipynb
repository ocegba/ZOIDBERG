{
 "cells": [
  {
   "cell_type": "code",
   "execution_count": 34,
   "id": "236f8a36",
   "metadata": {},
   "outputs": [
    {
     "data": {
      "text/plain": [
       "<module 'ipynb.fs.full.Models' (C:\\Users\\ocean\\Documents\\Projects\\Zoidberg\\Models.ipynb)>"
      ]
     },
     "execution_count": 34,
     "metadata": {},
     "output_type": "execute_result"
    }
   ],
   "source": [
    "import time\n",
    "import random\n",
    "import numpy as np\n",
    "import matplotlib.pyplot as plt\n",
    "import seaborn as sns\n",
    "from sklearn.metrics import confusion_matrix\n",
    "\n",
    "from keras.optimizers import Adam\n",
    "from keras.callbacks import ReduceLROnPlateau,EarlyStopping, LambdaCallback, ModelCheckpoint, CSVLogger\n",
    "from keras.models import load_model\n",
    "\n",
    "from ipynb.fs.full import DataLoader\n",
    "from ipynb.fs.full import Models\n",
    "\n",
    "import seaborn as sns\n",
    "\n",
    "from sklearn.model_selection import cross_val_score\n",
    "\n",
    "import importlib\n",
    "importlib.reload(DataLoader)\n",
    "importlib.reload(Models)"
   ]
  },
  {
   "cell_type": "markdown",
   "id": "71c77112",
   "metadata": {},
   "source": [
    "### Parameters"
   ]
  },
  {
   "cell_type": "code",
   "execution_count": 35,
   "id": "117cccc5",
   "metadata": {},
   "outputs": [],
   "source": [
    "samplesTrain = random.randint(2500, 5000) #max : 5219 par ex 50 en normal et 50 en pneumonia à voir si intervalle random c'est mieux \n",
    "samplesVal = 19 #max : 19\n",
    "samplesTest = random.randint(400, 625) #max : 625\n",
    "\n",
    "batch_size=64\n",
    "percent=0.6\n",
    "learning_rate=0.001\n",
    "epochs = 10\n",
    "\n",
    "random_state= 1\n",
    "max_iter=1000"
   ]
  },
  {
   "cell_type": "code",
   "execution_count": null,
   "id": "e3480771",
   "metadata": {
    "scrolled": true
   },
   "outputs": [
    {
     "name": "stdout",
     "output_type": "stream",
     "text": [
      "############################################################################################\n",
      "input\\train/NORMAL\n",
      "Processed image 1/1342\n",
      "Processed image 2/1342\n",
      "Processed image 3/1342\n",
      "Processed image 4/1342\n",
      "Processed image 5/1342\n",
      "Processed image 6/1342\n",
      "Processed image 7/1342\n",
      "Processed image 8/1342\n",
      "Processed image 9/1342\n"
     ]
    }
   ],
   "source": [
    "data_loader = DataLoader.DataLoader(samplesTrain,\n",
    "                         samplesVal,\n",
    "                         samplesTest,\n",
    "                         batch_size=batch_size,\n",
    "                         augment_data=True,\n",
    "                         shuffle=True)"
   ]
  },
  {
   "cell_type": "code",
   "execution_count": null,
   "id": "d6018341",
   "metadata": {
    "scrolled": true
   },
   "outputs": [],
   "source": [
    "train_data = data_loader.load_train_generator()\n",
    "val_data   = data_loader.load_validation_generator()\n",
    "test_data  = data_loader.load_test_generator()"
   ]
  },
  {
   "cell_type": "code",
   "execution_count": null,
   "id": "d0300556",
   "metadata": {
    "scrolled": true
   },
   "outputs": [],
   "source": [
    "train_X, train_y = train_data[0]\n",
    "val_X, val_y = val_data[0]\n",
    "test_X, test_y = test_data[0]"
   ]
  },
  {
   "cell_type": "code",
   "execution_count": null,
   "id": "d9a0c6d2",
   "metadata": {},
   "outputs": [],
   "source": [
    "print(len(train_X))"
   ]
  },
  {
   "cell_type": "code",
   "execution_count": null,
   "id": "caa6c8da",
   "metadata": {},
   "outputs": [],
   "source": [
    "print(len(val_X))"
   ]
  },
  {
   "cell_type": "code",
   "execution_count": null,
   "id": "574f28c4",
   "metadata": {},
   "outputs": [],
   "source": [
    "print(len(test_X))  "
   ]
  },
  {
   "cell_type": "markdown",
   "id": "c8c225dd",
   "metadata": {},
   "source": [
    "### Create CNN model"
   ]
  },
  {
   "cell_type": "markdown",
   "id": "a0a9118c",
   "metadata": {},
   "source": [
    "### Load data"
   ]
  },
  {
   "cell_type": "code",
   "execution_count": 9,
   "id": "a23d627d",
   "metadata": {
    "scrolled": false
   },
   "outputs": [],
   "source": [
    "model = Models.MLP_MLPClassifier(activation='tanh',\n",
    "                          random_state=random_state,\n",
    "                          hidden_layer_sizes=(300,300),\n",
    "                          max_iter=max_iter,\n",
    "                          batch_size=64,\n",
    "                          learning_rate=learning_rate,\n",
    "                          early_stopping= False)"
   ]
  },
  {
   "cell_type": "code",
   "execution_count": 10,
   "id": "133f092b",
   "metadata": {},
   "outputs": [],
   "source": [
    "train_X = train_X.reshape(train_X.shape[0], -1)\n",
    "val_X = val_X.reshape(val_X.shape[0], -1)\n",
    "test_X = test_X.reshape(test_X.shape[0], -1)"
   ]
  },
  {
   "cell_type": "markdown",
   "id": "5d23eab7",
   "metadata": {},
   "source": [
    "### Cross validation"
   ]
  },
  {
   "cell_type": "code",
   "execution_count": 11,
   "id": "257d91f9",
   "metadata": {},
   "outputs": [],
   "source": [
    "X = np.concatenate((train_X, val_X))\n",
    "y = np.concatenate((train_y, val_y))"
   ]
  },
  {
   "cell_type": "code",
   "execution_count": 12,
   "id": "995799db",
   "metadata": {
    "scrolled": false
   },
   "outputs": [],
   "source": [
    "cv_scores = cross_val_score(model, X, y, cv=5)  # Adjust the number of folds as needed"
   ]
  },
  {
   "cell_type": "code",
   "execution_count": 13,
   "id": "b30957ea",
   "metadata": {},
   "outputs": [
    {
     "name": "stdout",
     "output_type": "stream",
     "text": [
      "Cross-validation scores: [0.61267606 0.61384977 0.61267606 0.61457109 0.613396  ]\n"
     ]
    }
   ],
   "source": [
    "print(\"Cross-validation scores:\", cv_scores)"
   ]
  },
  {
   "cell_type": "code",
   "execution_count": 14,
   "id": "9e180aa7",
   "metadata": {},
   "outputs": [
    {
     "name": "stdout",
     "output_type": "stream",
     "text": [
      "Mean CV accuracy: 0.6134337950933173\n"
     ]
    }
   ],
   "source": [
    "print(\"Mean CV accuracy:\", np.mean(cv_scores))"
   ]
  },
  {
   "cell_type": "code",
   "execution_count": 15,
   "id": "6fd1471a",
   "metadata": {},
   "outputs": [
    {
     "name": "stdout",
     "output_type": "stream",
     "text": [
      "Standard deviation of CV accuracy: 0.0007233590368203011\n"
     ]
    }
   ],
   "source": [
    "print(\"Standard deviation of CV accuracy:\", np.std(cv_scores))"
   ]
  },
  {
   "cell_type": "markdown",
   "id": "8734a758",
   "metadata": {},
   "source": [
    "#### Train Model"
   ]
  },
  {
   "cell_type": "code",
   "execution_count": 16,
   "id": "96f845e2",
   "metadata": {
    "scrolled": false
   },
   "outputs": [],
   "source": [
    "# model_fit = model.fit(\n",
    "#         X = train_X, #images\n",
    "#         y = train_y, #labels\n",
    "#     )      "
   ]
  },
  {
   "cell_type": "code",
   "execution_count": 17,
   "id": "305505a5",
   "metadata": {},
   "outputs": [
    {
     "name": "stdout",
     "output_type": "stream",
     "text": [
      "epoch :  0 /20\n",
      "epoch :  1 /20\n",
      "epoch :  2 /20\n",
      "epoch :  3 /20\n",
      "epoch :  4 /20\n",
      "epoch :  5 /20\n",
      "epoch :  6 /20\n",
      "epoch :  7 /20\n",
      "epoch :  8 /20\n",
      "epoch :  9 /20\n",
      "Training stopped early at epoch 9\n"
     ]
    },
    {
     "data": {
      "image/png": "[encoded data removed]",
      "text/plain": [
       "<Figure size 600x600 with 2 Axes>"
      ]
     },
     "metadata": {},
     "output_type": "display_data"
    }
   ],
   "source": [
    "train_losses = []\n",
    "val_losses = []\n",
    "train_accs = []\n",
    "val_accs = []\n",
    "\n",
    "for epoch in range(100):\n",
    "    print('epoch : ', epoch,'/20')\n",
    "    model.fit(train_X, train_y)\n",
    "\n",
    "    train_acc = model.score(train_X, train_y)\n",
    "    val_acc = model.score(val_X, val_y)\n",
    "    train_losses.append(model.model.loss_curve_[-1])\n",
    "    val_losses.append(model.model.loss_curve_[-1])\n",
    "    train_accs.append(train_acc)\n",
    "    val_accs.append(val_acc)\n",
    "    \n",
    "    if model.early_stopping and model.model.n_iter_no_change == epoch + 1:\n",
    "        print('Training stopped early at epoch', epoch)\n",
    "        break\n",
    "\n",
    "fig, ax = plt.subplots(2, 1, figsize=(6, 6))\n",
    "ax[0].plot(train_losses, label=\"TraiènLoss\")\n",
    "ax[0].plot(val_losses, label=\"ValLoss\")\n",
    "ax[0].legend(loc='best', shadow=True)\n",
    "\n",
    "ax[1].plot(train_accs, label=\"TrainAcc\")\n",
    "ax[1].plot(val_accs, label=\"ValAcc\")\n",
    "ax[1].legend(loc='best', shadow=True)\n",
    "plt.show()"
   ]
  },
  {
   "cell_type": "markdown",
   "id": "422e4d70",
   "metadata": {},
   "source": [
    "### Evaluating Model on Test Data"
   ]
  },
  {
   "cell_type": "code",
   "execution_count": 18,
   "id": "855cbc40",
   "metadata": {},
   "outputs": [],
   "source": [
    "train_score = model.score(train_X, train_y)"
   ]
  },
  {
   "cell_type": "code",
   "execution_count": 19,
   "id": "ea03e998",
   "metadata": {
    "scrolled": true
   },
   "outputs": [
    {
     "name": "stdout",
     "output_type": "stream",
     "text": [
      "\n",
      "Model Accuracy Train:  0.6142924751538098\n"
     ]
    }
   ],
   "source": [
    "print('\\nModel Accuracy Train: ', train_score)"
   ]
  },
  {
   "cell_type": "code",
   "execution_count": 20,
   "id": "773189ef",
   "metadata": {},
   "outputs": [],
   "source": [
    "val_score = model.score(val_X, val_y)"
   ]
  },
  {
   "cell_type": "code",
   "execution_count": 21,
   "id": "1c55c3f4",
   "metadata": {
    "scrolled": true
   },
   "outputs": [
    {
     "name": "stdout",
     "output_type": "stream",
     "text": [
      "\n",
      "Model Accuracy Validation:  0.5\n"
     ]
    }
   ],
   "source": [
    "print('\\nModel Accuracy Validation: ', val_score)"
   ]
  },
  {
   "cell_type": "markdown",
   "id": "8fbd10fd",
   "metadata": {},
   "source": [
    "### Matrix Confusion"
   ]
  },
  {
   "cell_type": "code",
   "execution_count": 37,
   "id": "3919c6fd",
   "metadata": {},
   "outputs": [
    {
     "name": "stdout",
     "output_type": "stream",
     "text": [
      "528\n"
     ]
    }
   ],
   "source": [
    "\"\"\"\n",
    "Predict the labels on test_X\n",
    "if > 0.5 => + sinon -\n",
    "\"\"\"\n",
    "print(len(test_X))\n",
    "predict_out = model.predict(test_X)"
   ]
  },
  {
   "cell_type": "code",
   "execution_count": 38,
   "id": "d0e7cf9a",
   "metadata": {
    "scrolled": false
   },
   "outputs": [
    {
     "name": "stdout",
     "output_type": "stream",
     "text": [
      "[1. 1. 1. 1. 1. 1. 1. 1. 1. 1. 1. 1. 1. 1. 1. 1. 1. 1. 1. 1. 1. 1. 1. 1.\n",
      " 1. 1. 1. 1. 1. 1. 1. 1. 1. 1. 1. 1. 1. 1. 1. 1. 1. 1. 1. 1. 1. 1. 1. 1.\n",
      " 1. 1. 1. 1. 1. 1. 1. 1. 1. 1. 1. 1. 1. 1. 1. 1. 1. 1. 1. 1. 1. 1. 1. 1.\n",
      " 1. 1. 1. 1. 1. 1. 1. 1. 1. 1. 1. 1. 1. 1. 1. 1. 1. 1. 1. 1. 1. 1. 1. 1.\n",
      " 1. 1. 1. 1. 1. 1. 1. 1. 1. 1. 1. 1. 1. 1. 1. 1. 1. 1. 1. 1. 1. 1. 1. 1.\n",
      " 1. 1. 1. 1. 1. 1. 1. 1. 1. 1. 1. 1. 1. 1. 1. 1. 1. 1. 1. 1. 1. 1. 1. 1.\n",
      " 1. 1. 1. 1. 1. 1. 1. 1. 1. 1. 1. 1. 1. 1. 1. 1. 1. 1. 1. 1. 1. 1. 1. 1.\n",
      " 1. 1. 1. 1. 1. 1. 1. 1. 1. 1. 1. 1. 1. 1. 1. 1. 1. 1. 1. 1. 1. 1. 1. 1.\n",
      " 1. 1. 1. 1. 1. 1. 1. 1. 1. 1. 1. 1. 1. 1. 1. 1. 1. 1. 1. 1. 1. 1. 1. 1.\n",
      " 1. 1. 1. 1. 1. 1. 1. 1. 1. 1. 1. 1. 1. 1. 1. 1. 1. 1. 1. 1. 1. 1. 1. 1.\n",
      " 1. 1. 1. 1. 1. 1. 1. 1. 1. 1. 1. 1. 1. 1. 1. 1. 1. 1. 1. 1. 1. 1. 1. 1.\n",
      " 1. 1. 1. 1. 1. 1. 1. 1. 1. 1. 1. 1. 1. 1. 1. 1. 1. 1. 1. 1. 1. 1. 1. 1.\n",
      " 1. 1. 1. 1. 1. 1. 1. 1. 1. 1. 1. 1. 1. 1. 1. 1. 1. 1. 1. 1. 1. 1. 1. 1.\n",
      " 1. 1. 1. 1. 1. 1. 1. 1. 1. 1. 1. 1. 1. 1. 1. 1. 1. 1. 1. 1. 1. 1. 1. 1.\n",
      " 1. 1. 1. 1. 1. 1. 1. 1. 1. 1. 1. 1. 1. 1. 1. 1. 1. 1. 1. 1. 1. 1. 1. 1.\n",
      " 1. 1. 1. 1. 1. 1. 1. 1. 1. 1. 1. 1. 1. 1. 1. 1. 1. 1. 1. 1. 1. 1. 1. 1.\n",
      " 1. 1. 1. 1. 1. 1. 1. 1. 1. 1. 1. 1. 1. 1. 1. 1. 1. 1. 1. 1. 1. 1. 1. 1.\n",
      " 1. 1. 1. 1. 1. 1. 1. 1. 1. 1. 1. 1. 1. 1. 1. 1. 1. 1. 1. 1. 1. 1. 1. 1.\n",
      " 1. 1. 1. 1. 1. 1. 1. 1. 1. 1. 1. 1. 1. 1. 1. 1. 1. 1. 1. 1. 1. 1. 1. 1.\n",
      " 1. 1. 1. 1. 1. 1. 1. 1. 1. 1. 1. 1. 1. 1. 1. 1. 1. 1. 1. 1. 1. 1. 1. 1.\n",
      " 1. 1. 1. 1. 1. 1. 1. 1. 1. 1. 1. 1. 1. 1. 1. 1. 1. 1. 1. 1. 1. 1. 1. 1.\n",
      " 1. 1. 1. 1. 1. 1. 1. 1. 1. 1. 1. 1. 1. 1. 1. 1. 1. 1. 1. 1. 1. 1. 1. 1.] \n",
      " \n",
      " [0. 0. 0. 0. 0. 0. 0. 0. 0. 0. 0. 0. 0. 0. 0. 0. 0. 0. 0. 0. 0. 0. 0. 0.\n",
      " 0. 0. 0. 0. 0. 0. 0. 0. 0. 0. 0. 0. 0. 0. 0. 0. 0. 0. 0. 0. 0. 0. 0. 0.\n",
      " 0. 0. 0. 0. 0. 0. 0. 0. 0. 0. 0. 0. 0. 0. 0. 0. 0. 0. 0. 0. 0. 0. 0. 0.\n",
      " 0. 0. 0. 0. 0. 0. 0. 0. 0. 0. 0. 0. 0. 0. 0. 0. 0. 0. 0. 0. 0. 0. 0. 0.\n",
      " 0. 0. 0. 0. 0. 0. 0. 0. 0. 0. 0. 0. 0. 0. 0. 0. 0. 0. 0. 0. 0. 0. 0. 0.\n",
      " 0. 0. 0. 0. 0. 0. 0. 0. 0. 0. 0. 0. 0. 0. 0. 0. 0. 0. 0. 0. 0. 0. 0. 0.\n",
      " 0. 0. 0. 0. 0. 0. 0. 0. 0. 0. 0. 0. 0. 0. 0. 0. 0. 0. 0. 0. 0. 0. 0. 0.\n",
      " 0. 0. 0. 0. 0. 0. 0. 0. 0. 0. 0. 0. 0. 0. 0. 0. 0. 0. 0. 0. 0. 0. 0. 0.\n",
      " 0. 0. 0. 0. 0. 0. 0. 0. 0. 0. 0. 0. 0. 0. 0. 0. 0. 0. 0. 0. 0. 0. 0. 0.\n",
      " 0. 0. 0. 0. 0. 0. 0. 0. 0. 0. 0. 0. 0. 0. 0. 0. 0. 0. 1. 1. 1. 1. 1. 1.\n",
      " 1. 1. 1. 1. 1. 1. 1. 1. 1. 1. 1. 1. 1. 1. 1. 1. 1. 1. 1. 1. 1. 1. 1. 1.\n",
      " 0. 0. 0. 0. 0. 0. 0. 0. 0. 0. 0. 0. 0. 0. 0. 0. 0. 0. 0. 0. 0. 0. 0. 0.\n",
      " 0. 0. 0. 0. 0. 0. 0. 0. 0. 0. 0. 0. 0. 0. 0. 0. 0. 0. 0. 0. 0. 0. 0. 0.\n",
      " 0. 0. 0. 0. 0. 0. 0. 0. 0. 0. 0. 0. 0. 0. 0. 0. 0. 0. 0. 0. 0. 0. 0. 0.\n",
      " 0. 0. 0. 0. 0. 0. 0. 0. 0. 0. 0. 0. 0. 0. 0. 0. 0. 0. 0. 0. 0. 0. 0. 0.\n",
      " 0. 0. 0. 0. 0. 0. 0. 0. 0. 0. 0. 0. 0. 0. 0. 0. 0. 0. 0. 0. 0. 0. 0. 0.\n",
      " 0. 0. 0. 0. 0. 0. 0. 0. 0. 0. 0. 0. 0. 0. 0. 0. 0. 0. 0. 0. 0. 0. 0. 0.\n",
      " 0. 0. 0. 0. 0. 0. 0. 0. 0. 0. 0. 0. 0. 0. 0. 0. 0. 0. 0. 0. 0. 0. 0. 0.\n",
      " 0. 0. 0. 0. 0. 0. 0. 0. 0. 0. 0. 0. 0. 0. 0. 0. 0. 0. 0. 0. 0. 0. 0. 0.\n",
      " 0. 0. 0. 0. 0. 0. 0. 0. 0. 0. 0. 0. 0. 0. 0. 0. 0. 0. 0. 0. 0. 0. 0. 0.\n",
      " 0. 0. 0. 0. 0. 0. 0. 0. 0. 0. 0. 0. 0. 0. 0. 0. 0. 0. 1. 1. 1. 1. 1. 1.\n",
      " 1. 1. 1. 1. 1. 1. 1. 1. 1. 1. 1. 1. 1. 1. 1. 1. 1. 1. 1. 1. 1. 1. 1. 1.]\n"
     ]
    }
   ],
   "source": [
    "print(predict_out,'\\n', '\\n', test_y)"
   ]
  },
  {
   "cell_type": "code",
   "execution_count": 39,
   "id": "523c916c",
   "metadata": {},
   "outputs": [],
   "source": [
    "conf_matrix = confusion_matrix(y_true=test_y, y_pred=predict_out)"
   ]
  },
  {
   "cell_type": "code",
   "execution_count": 40,
   "id": "033b8a1e",
   "metadata": {
    "scrolled": false
   },
   "outputs": [
    {
     "data": {
      "image/png": "[encoded data removed]",
      "text/plain": [
       "<Figure size 800x600 with 1 Axes>"
      ]
     },
     "metadata": {},
     "output_type": "display_data"
    }
   ],
   "source": [
    "plt.figure(figsize=(8, 6))\n",
    "sns.heatmap(conf_matrix, annot=True, fmt='d', cmap='Blues', cbar=False, square=True, xticklabels=['Normal','Pneumonia'], yticklabels=['Normal','Pneumonia'])\n",
    "plt.title('Confusion Matrix', fontsize=14)\n",
    "plt.ylabel('True label', fontsize=12)\n",
    "plt.xlabel('Predicted label', fontsize=12)\n",
    "plt.xticks(fontsize=10)\n",
    "plt.yticks(fontsize=10)\n",
    "plt.show()"
   ]
  },
  {
   "cell_type": "code",
   "execution_count": 26,
   "id": "3b553022",
   "metadata": {
    "scrolled": true
   },
   "outputs": [],
   "source": [
    "# train_losses = []\n",
    "# val_losses = []\n",
    "# train_accs = []\n",
    "# val_accs = []\n",
    "\n",
    "# for epoch in range(20):\n",
    "#     print('epoch : ', epoch,'/20')\n",
    "#     model.partial_fit(train_X, train_y, classes=np.unique(train_y))\n",
    "#     train_acc = model.score(train_X, train_y)\n",
    "#     val_acc = model.score(val_X, val_y)\n",
    "#     train_losses.append(model.model.loss_)\n",
    "#     val_losses.append(model.model.loss_)\n",
    "#     train_accs.append(train_acc)\n",
    "#     val_accs.append(val_acc)\n",
    "\n",
    "# fig, ax = plt.subplots(2, 1, figsize=(6, 6))\n",
    "# ax[0].plot(train_losses, label=\"TrainLoss\")\n",
    "# ax[0].plot(val_losses, label=\"ValLoss\")\n",
    "# ax[0].legend(loc='best', shadow=True)\n",
    "\n",
    "# ax[1].plot(train_accs, label=\"TrainAcc\")\n",
    "# ax[1].plot(val_accs, label=\"ValAcc\")\n",
    "# ax[1].legend(loc='best', shadow=True)\n",
    "# plt.show()"
   ]
  }
 ],
 "metadata": {
  "kernelspec": {
   "display_name": "Python 3 (ipykernel)",
   "language": "python",
   "name": "python3"
  },
  "language_info": {
   "codemirror_mode": {
    "name": "ipython",
    "version": 3
   },
   "file_extension": ".py",
   "mimetype": "text/x-python",
   "name": "python",
   "nbconvert_exporter": "python",
   "pygments_lexer": "ipython3",
   "version": "3.9.16"
  }
 },
 "nbformat": 4,
 "nbformat_minor": 5
}
