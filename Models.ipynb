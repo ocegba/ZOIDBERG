{
 "cells": [
  {
   "cell_type": "code",
   "execution_count": 6,
   "id": "b4af49be",
   "metadata": {},
   "outputs": [],
   "source": [
    "from keras.models import Model\n",
    "\n",
    "from keras.models import Sequential\n",
    "from keras.layers import Input, Dense, Dropout, Flatten, Conv2D, MaxPool2D, BatchNormalization, Activation, concatenate\n",
    "from keras.applications import densenet, Xception, NASNetMobile"
   ]
  },
  {
   "cell_type": "code",
   "execution_count": 7,
   "id": "a6c8d4bb",
   "metadata": {},
   "outputs": [],
   "source": [
    "class CNN_Model:\n",
    "    def __init__(self, chosenModel=\"custom\", percentTrain=1/6, img_dim=(224, 224, 3), n_predict_class=1): \n",
    "        self.input_dim = img_dim\n",
    "        self.chosenModel = chosenModel        \n",
    "        self.model=self.select_model(chosenModel, percentTrain)\n",
    "        self.n_predict_class = n_predict_class\n",
    "        \n",
    "    def select_model(self, chosenModel, percentTrain):\n",
    "        \"\"\"\n",
    "        Selectionner le modele à tester\n",
    "        \"\"\"\n",
    "        if 0>percentTrain>1:\n",
    "            raise Exception('Un pourcentage valide est nécessaire. Pourcentage doit etre entre 0-1.')\n",
    "        elif chosenModel == 'custom':\n",
    "            return self.custom_model()\n",
    "        \n",
    "    def custom_model(self):\n",
    "        \"\"\"\n",
    "        Model CNN Keras  \n",
    "        \"\"\"\n",
    "        model = Sequential()\n",
    "        model.add(Conv2D(filters=32, kernel_size=(3, 3), activation='relu', input_shape=self.input_dim, padding='same'))\n",
    "        model.add(Conv2D(filters=32, kernel_size=(3, 3), activation='relu', padding='same'))\n",
    "        model.add(BatchNormalization())\n",
    "        model.add(Dropout(0.1))\n",
    "\n",
    "        model.add(Conv2D(filters=32, kernel_size=(3, 3), activation='relu', padding='same'))\n",
    "        model.add(Conv2D(filters=32, kernel_size=(3, 3), activation='relu', padding='same'))\n",
    "        model.add(BatchNormalization())\n",
    "        model.add(Dropout(0.1))\n",
    "\n",
    "        model.add(Conv2D(filters=64, kernel_size=(3, 3), activation='relu', padding='same'))\n",
    "        model.add(Conv2D(filters=64, kernel_size=(3, 3), activation='relu', padding='same'))\n",
    "        model.add(BatchNormalization())\n",
    "        model.add(Dropout(0.1))\n",
    "\n",
    "        model.add(Flatten())\n",
    "        model.add(Dense(128, activation=\"relu\"))\n",
    "        model.add(Dropout(0.5))\n",
    "        model.add(Dense(self.n_predict_class, activation=\"sigmoid\"))\n",
    "        return model\n",
    "\n",
    "    \n",
    "    def get_model(self):\n",
    "        return self.model \n"
   ]
  },
  {
   "cell_type": "code",
   "execution_count": 3,
   "id": "c6dafe0e",
   "metadata": {},
   "outputs": [],
   "source": [
    "class RNN_Model:\n",
    "    \"\"\"\n",
    "    RNN Layer, Embedding Layer, Dense Layer, Dropout Layer, Masking Layer, TimeDistributed Layer\n",
    "    \"\"\""
   ]
  },
  {
   "cell_type": "code",
   "execution_count": null,
   "id": "827a7184",
   "metadata": {},
   "outputs": [],
   "source": []
  }
 ],
 "metadata": {
  "kernelspec": {
   "display_name": "Python 3 (ipykernel)",
   "language": "python",
   "name": "python3"
  },
  "language_info": {
   "codemirror_mode": {
    "name": "ipython",
    "version": 3
   },
   "file_extension": ".py",
   "mimetype": "text/x-python",
   "name": "python",
   "nbconvert_exporter": "python",
   "pygments_lexer": "ipython3",
   "version": "3.9.16"
  }
 },
 "nbformat": 4,
 "nbformat_minor": 5
}
