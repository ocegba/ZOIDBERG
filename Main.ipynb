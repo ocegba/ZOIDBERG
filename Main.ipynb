{
 "cells": [
  {
   "cell_type": "code",
   "execution_count": null,
   "id": "236f8a36",
   "metadata": {},
   "outputs": [],
   "source": [
    "import time\n",
    "import numpy as np\n",
    "import matplotlib.pyplot as plt\n",
    "import seaborn as sns\n",
    "from sklearn.metrics import confusion_matrix\n",
    "\n",
    "from keras.optimizers import Adam\n",
    "from keras.callbacks import ReduceLROnPlateau, ModelCheckpoint, EarlyStopping, LambdaCallback\n",
    "\n",
    "from ipynb.fs.full.DataLoader import DataLoader\n",
    "from ipynb.fs.full.Models import CNN_Model"
   ]
  },
  {
   "cell_type": "markdown",
   "id": "71c77112",
   "metadata": {},
   "source": [
    "### Parameters"
   ]
  },
  {
   "cell_type": "code",
   "execution_count": null,
   "id": "117cccc5",
   "metadata": {},
   "outputs": [],
   "source": [
    "samples = 5\n",
    "batch_size=64\n",
    "image_shape = (224, 224, 3)\n",
    "model_architecture = 'custom'\n",
    "percent=0.6\n",
    "learning_rate=0.001\n",
    "epochs = 25"
   ]
  },
  {
   "cell_type": "code",
   "execution_count": null,
   "id": "e3480771",
   "metadata": {
    "scrolled": true
   },
   "outputs": [],
   "source": [
    "data_loader = DataLoader(ntrain= samples,\n",
    "                         batch_size=batch_size,\n",
    "                         augment_data=True,\n",
    "                         shuffle=True,\n",
    "                         plot_distribuition=False)"
   ]
  },
  {
   "cell_type": "code",
   "execution_count": null,
   "id": "d6018341",
   "metadata": {},
   "outputs": [],
   "source": [
    "train_data = data_loader.load_train_generator()\n",
    "val_data   = data_loader.load_validation_generator()\n",
    "test_data  = data_loader.load_test_generator()"
   ]
  },
  {
   "cell_type": "markdown",
   "id": "c8c225dd",
   "metadata": {},
   "source": [
    "### Create CNN model"
   ]
  },
  {
   "cell_type": "markdown",
   "id": "a0a9118c",
   "metadata": {},
   "source": [
    "### Load data"
   ]
  },
  {
   "cell_type": "code",
   "execution_count": null,
   "id": "a23d627d",
   "metadata": {
    "scrolled": false
   },
   "outputs": [],
   "source": [
    "model = CNN_Model(chosenModel=\"custom\",\n",
    "                  percentTrain=percent,\n",
    "                  img_dim=image_shape,\n",
    "                  n_predict_class=1).get_model()"
   ]
  },
  {
   "cell_type": "code",
   "execution_count": null,
   "id": "e1a80da5",
   "metadata": {},
   "outputs": [],
   "source": [
    "#https://www.tensorflow.org/api_docs/python/tf/keras/optimizers/Adam\n",
    "optimizer = Adam(\n",
    "    learning_rate=learning_rate,\n",
    "    beta_1=0.9,\n",
    "    beta_2=0.999,\n",
    "    epsilon=1e-07,\n",
    "    amsgrad=False,\n",
    "    clipnorm=None,\n",
    "    clipvalue=None,\n",
    "    global_clipnorm=None,\n",
    "    name='Adam'\n",
    ")"
   ]
  },
  {
   "cell_type": "code",
   "execution_count": null,
   "id": "cda9d4a2",
   "metadata": {},
   "outputs": [],
   "source": [
    "model.compile(optimizer=optimizer, loss=\"binary_crossentropy\", metrics=['accuracy'])"
   ]
  },
  {
   "cell_type": "markdown",
   "id": "ecb00952",
   "metadata": {},
   "source": [
    "#### Callbacks"
   ]
  },
  {
   "cell_type": "markdown",
   "id": "8734a758",
   "metadata": {},
   "source": [
    "#### Train Model"
   ]
  },
  {
   "cell_type": "code",
   "execution_count": null,
   "id": "36abd29b",
   "metadata": {},
   "outputs": [],
   "source": [
    "model.summary()"
   ]
  },
  {
   "cell_type": "code",
   "execution_count": null,
   "id": "d0300556",
   "metadata": {
    "scrolled": true
   },
   "outputs": [],
   "source": [
    "print(len(train_data[0][1]))"
   ]
  },
  {
   "cell_type": "code",
   "execution_count": null,
   "id": "96f845e2",
   "metadata": {
    "scrolled": false
   },
   "outputs": [],
   "source": [
    "# https://www.tensorflow.org/api_docs/python/tf/keras/Model#fit\n",
    "# https://github.com/keras-team/keras/blob/v2.12.0/keras/engine/training.py#L1338-L1761\n",
    "# https://faroit.com/keras-docs/1.2.0/models/model/\n",
    "model_fit = model.fit(\n",
    "        x = train_data[0][0], #images\n",
    "        y = train_data[0][1], #labels\n",
    "        batch_size=batch_size,\n",
    "        epochs=epochs,\n",
    "        verbose=2,\n",
    "#        callbacks=None,\n",
    "        validation_split=0.0,\n",
    "        validation_data=val_data,\n",
    "#         shuffle=True,\n",
    "#         class_weight=None,\n",
    "#         sample_weight=None,\n",
    "        initial_epoch=0,\n",
    "        steps_per_epoch=len(train_data[0][0]),\n",
    "        validation_steps=len(val_data[0][0]),\n",
    "#         validation_batch_size=None,\n",
    "#         validation_freq=1,\n",
    "#         max_queue_size=10,\n",
    "#         workers=1,\n",
    "#         use_multiprocessing=False,\n",
    "    )\n",
    "\n"
   ]
  },
  {
   "cell_type": "markdown",
   "id": "422e4d70",
   "metadata": {},
   "source": [
    "### Evaluating Model on Test Data"
   ]
  },
  {
   "cell_type": "code",
   "execution_count": null,
   "id": "46443e16",
   "metadata": {},
   "outputs": [],
   "source": []
  }
 ],
 "metadata": {
  "kernelspec": {
   "display_name": "Python 3 (ipykernel)",
   "language": "python",
   "name": "python3"
  },
  "language_info": {
   "codemirror_mode": {
    "name": "ipython",
    "version": 3
   },
   "file_extension": ".py",
   "mimetype": "text/x-python",
   "name": "python",
   "nbconvert_exporter": "python",
   "pygments_lexer": "ipython3",
   "version": "3.9.16"
  }
 },
 "nbformat": 4,
 "nbformat_minor": 5
}
